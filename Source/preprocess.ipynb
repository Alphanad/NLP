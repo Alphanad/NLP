{
 "cells": [
  {
   "cell_type": "code",
   "execution_count": null,
   "id": "b4fab1c9",
   "metadata": {},
   "outputs": [],
   "source": [
    "import string\n",
    "\n",
    "stop_words = []\n",
    "with open(\"./persian_stop_words.txt\", encoding=\"utf8\") as f:\n",
    "    stop_words = f.read().split(\"\\n\")\n",
    "    \n",
    "def is_number(c):\n",
    "    if c not in \"۰۱۲۳۴۵۶۷۸۹0123456789\":\n",
    "        return False\n",
    "    return True\n",
    "\n",
    "\n",
    "def preprocess(text):\n",
    "    # 1.Remove english punctuation\n",
    "    for punctuation in string.punctuation:\n",
    "        text = text.replace(punctuation, \"\")\n",
    "    for punctuation in \"!#()*,-./:[]«»،؛؟\":\n",
    "        text = text.replace(punctuation, \"\")\n",
    "    # 2.Replace numbers with \"N\"\n",
    "    new_text = \"\"\n",
    "    numeric_flag = False\n",
    "    for t in text:\n",
    "        if not numeric_flag:\n",
    "            if not is_number(t):\n",
    "                new_text = f\"{new_text}{t}\"\n",
    "            else:\n",
    "                numeric_flag = True\n",
    "                continue\n",
    "        elif numeric_flag:\n",
    "            if is_number(t):\n",
    "                continue\n",
    "            else:\n",
    "                new_text = f\"{new_text}N{t}\"\n",
    "                numeric_flag = False\n",
    "    text = new_text\n",
    "    # 3.Remove stop word\n",
    "    text = \" \".join([word for word in text.split() if word not in stop_words])\n",
    "    \n",
    "    return text\n",
    "\n"
   ]
  }
 ],
 "metadata": {
  "kernelspec": {
   "display_name": "Python 3 (ipykernel)",
   "language": "python",
   "name": "python3"
  },
  "language_info": {
   "codemirror_mode": {
    "name": "ipython",
    "version": 3
   },
   "file_extension": ".py",
   "mimetype": "text/x-python",
   "name": "python",
   "nbconvert_exporter": "python",
   "pygments_lexer": "ipython3",
   "version": "3.9.13"
  }
 },
 "nbformat": 4,
 "nbformat_minor": 5
}
